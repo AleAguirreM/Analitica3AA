{
  "nbformat": 4,
  "nbformat_minor": 0,
  "metadata": {
    "colab": {
      "provenance": [],
      "authorship_tag": "ABX9TyMYF5Ro5tFbH5yEi6iKuCbB",
      "include_colab_link": true
    },
    "kernelspec": {
      "name": "python3",
      "display_name": "Python 3"
    },
    "language_info": {
      "name": "python"
    }
  },
  "cells": [
    {
      "cell_type": "markdown",
      "metadata": {
        "id": "view-in-github",
        "colab_type": "text"
      },
      "source": [
        "<a href=\"https://colab.research.google.com/github/AleAguirreM/Analitica3AA/blob/main/d_modelos2.ipynb\" target=\"_parent\"><img src=\"https://colab.research.google.com/assets/colab-badge.svg\" alt=\"Open In Colab\"/></a>"
      ]
    },
    {
      "cell_type": "code",
      "execution_count": null,
      "metadata": {
        "id": "J5p0GD0USlxW"
      },
      "outputs": [],
      "source": [
        "import numpy as np\n",
        "import pandas as pd\n",
        "import sqlite3 as sql\n",
        "from sklearn.preprocessing import MinMaxScaler\n",
        "from ipywidgets import interact ## para análisis interactivo\n",
        "from sklearn import neighbors ### basado en contenido un solo producto consumido\n",
        "import joblib"
      ]
    },
    {
      "cell_type": "code",
      "source": [
        "####Paquete para sistemas de recomendación surprise\n",
        "###Puede generar problemas en instalación local de pyhton. Genera error instalando con pip\n",
        "#### probar que les funcione para la próxima clase\n",
        "\n",
        "from surprise import Reader, Dataset\n",
        "from surprise.model_selection import cross_validate, GridSearchCV\n",
        "from surprise import KNNBasic, KNNWithMeans, KNNWithZScore, KNNBaseline\n",
        "from surprise.model_selection import train_test_split\n",
        "\n",
        "\n"
      ],
      "metadata": {
        "id": "HwX_eXs9StDY"
      },
      "execution_count": null,
      "outputs": []
    },
    {
      "cell_type": "code",
      "source": [
        "#############################################\n",
        "#### conectar_base_de_Datos#################\n",
        "############################################\n",
        "\n",
        "conn=sql.connect('data\\\\db_books2')\n",
        "cur=conn.cursor()\n",
        "\n",
        "\n",
        "pd.read_sql(\"select isbn, count(*) cnt from book_ratings group by isbn order by cnt desc\", conn)"
      ],
      "metadata": {
        "id": "R0S-RV9JS0Y4"
      },
      "execution_count": null,
      "outputs": []
    },
    {
      "cell_type": "code",
      "source": [
        "#######################################################################\n",
        "#### 3 Sistema de recomendación basado en contenido KNN #################\n",
        "#### Con base en todo lo visto por el usuario #######################\n",
        "#######################################################################\n",
        "\n",
        "books=pd.read_sql('select * from books_final', conn )\n",
        "books['year_pub']=books.year_pub.astype('int')"
      ],
      "metadata": {
        "id": "X7JYGdxVS4nA"
      },
      "execution_count": null,
      "outputs": []
    },
    {
      "cell_type": "code",
      "source": [
        "##### cargar data frame escalado y con dummies ###\n",
        "\n",
        "books_dum2= joblib.load('salidas\\\\books_dum2.joblib')\n"
      ],
      "metadata": {
        "id": "_UrBLN_gTAO5"
      },
      "execution_count": null,
      "outputs": []
    },
    {
      "cell_type": "code",
      "source": [
        "#### seleccionar usuario para recomendaciones ####\n",
        "\n",
        "usuarios=pd.read_sql('select distinct (user_id) as user_id from ratings_final',conn)\n",
        "\n",
        "user_id=31226 ### para ejemplo manual"
      ],
      "metadata": {
        "id": "-7Kf-i2xTCSC"
      },
      "execution_count": null,
      "outputs": []
    },
    {
      "cell_type": "code",
      "source": [
        "def recomendar(user_id=list(usuarios['user_id'].value_counts().index)):\n",
        "\n",
        "    ###seleccionar solo los ratings del usuario seleccionado\n",
        "    ratings=pd.read_sql('select *from ratings_final where user_id=:user',conn, params={'user':user_id,})\n",
        "\n",
        "    ###convertir ratings del usuario a array\n",
        "    l_books_r=ratings['isbn'].to_numpy()\n",
        "\n",
        "    ###agregar la columna de isbn y titulo del libro a dummie para filtrar y mostrar nombre\n",
        "    books_dum2[['isbn','book_title']]=books[['isbn','book_title']]\n",
        "\n",
        "    ### filtrar libros calificados por el usuario\n",
        "    books_r=books_dum2[books_dum2['isbn'].isin(l_books_r)]\n",
        "\n",
        "    ## eliminar columna nombre e isbn\n",
        "    books_r=books_r.drop(columns=['isbn','book_title'])\n",
        "    books_r[\"indice\"]=1 ### para usar group by y que quede en formato pandas tabla de centroide\n",
        "    ##centroide o perfil del usuario\n",
        "    centroide=books_r.groupby(\"indice\").mean()\n",
        "\n",
        "\n",
        "    ### filtrar libros no leídos\n",
        "    books_nr=books_dum2[~books_dum2['isbn'].isin(l_books_r)]\n",
        "    ## eliminbar nombre e isbn\n",
        "    books_nr=books_nr.drop(columns=['isbn','book_title'])\n",
        "\n",
        "    ### entrenar modelo\n",
        "    model=neighbors.NearestNeighbors(n_neighbors=11, metric='cosine')\n",
        "    model.fit(books_nr)\n",
        "    dist, idlist = model.kneighbors(centroide)\n",
        "\n",
        "    ids=idlist[0] ### queda en un array anidado, para sacarlo\n",
        "    recomend_b=books.loc[ids][['book_title','isbn']]\n",
        "    leidos=books[books['isbn'].isin(l_books_r)][['book_title','isbn']]\n",
        "\n",
        "    return recomend_b\n",
        "\n",
        "\n",
        "recomendar(52853)\n",
        "\n",
        "\n",
        "print(interact(recomendar))"
      ],
      "metadata": {
        "id": "fDFuYeo3TGjJ"
      },
      "execution_count": null,
      "outputs": []
    },
    {
      "cell_type": "code",
      "source": [
        "############################################################################\n",
        "#####4 Sistema de recomendación filtro colaborativo #####\n",
        "############################################################################\n",
        "\n",
        "### datos originales en pandas\n",
        "## knn solo sirve para calificaciones explicitas\n",
        "ratings=pd.read_sql('select * from ratings_final where book_rating>0', conn)\n",
        "\n",
        "\n",
        "####los datos deben ser leidos en un formato espacial para surprise\n",
        "reader = Reader(rating_scale=(0, 10)) ### la escala de la calificación\n",
        "###las columnas deben estar en orden estándar: user item rating\n",
        "data   = Dataset.load_from_df(ratings[['user_id','isbn','book_rating']], reader)\n",
        "\n",
        "\n",
        "#####Existen varios modelos\n",
        "models=[KNNBasic(),KNNWithMeans(),KNNWithZScore(),KNNBaseline()]\n",
        "results = {}\n",
        "\n",
        "###knnBasiscs: calcula el rating ponderando por distancia con usuario/Items\n",
        "###KnnWith means: en la ponderación se resta la media del rating, y al final se suma la media general\n",
        "####KnnwithZscores: estandariza el rating restando media y dividiendo por desviación\n",
        "####Knnbaseline: calculan el desvío de cada calificación con respecto al promedio y con base en esos calculan la ponderación\n",
        "\n",
        "\n",
        "#### for para probar varios modelos ##########\n",
        "model=models[1]\n",
        "for model in models:\n",
        "\n",
        "    CV_scores = cross_validate(model, data, measures=[\"MAE\",\"RMSE\"], cv=5, n_jobs=-1)\n",
        "\n",
        "    result = pd.DataFrame.from_dict(CV_scores).mean(axis=0).\\\n",
        "             rename({'test_mae':'MAE', 'test_rmse': 'RMSE'})\n",
        "    results[str(model).split(\"algorithms.\")[1].split(\"object \")[0]] = result\n",
        "\n",
        "\n",
        "performance_df = pd.DataFrame.from_dict(results).T\n",
        "performance_df.sort_values(by='RMSE')"
      ],
      "metadata": {
        "id": "fcHUMSbWTKc5"
      },
      "execution_count": null,
      "outputs": []
    },
    {
      "cell_type": "code",
      "source": [
        "###################se escoge el mejor knn withmeans#########################\n",
        "param_grid = { 'sim_options' : {'name': ['msd','cosine'], \\\n",
        "                                'min_support': [5,2], \\\n",
        "                                'user_based': [False, True]}\n",
        "             }\n",
        "\n",
        "## min support es la cantidad de items o usuarios que necesita para calcular recomendación\n",
        "## name medidas de distancia\n",
        "\n",
        "### se afina si es basado en usuario o basado en ítem\n",
        "\n",
        "gridsearchKNNWithMeans = GridSearchCV(KNNWithMeans, param_grid, measures=['rmse'], \\\n",
        "                                      cv=2, n_jobs=-1)\n",
        "\n",
        "gridsearchKNNWithMeans.fit(data)\n",
        "\n",
        "\n",
        "gridsearchKNNWithMeans.best_params[\"rmse\"]\n",
        "gridsearchKNNWithMeans.best_score[\"rmse\"]\n",
        "gs_model=gridsearchKNNWithMeans.best_estimator['rmse'] ### mejor estimador de gridsearch\n"
      ],
      "metadata": {
        "id": "SvLAyJ94TNia"
      },
      "execution_count": null,
      "outputs": []
    },
    {
      "cell_type": "code",
      "source": [
        "\n",
        "################# Entrenar con todos los datos y Realizar predicciones con el modelo afinado\n",
        "\n",
        "trainset = data.build_full_trainset() ### esta función convierte todos los datos en entrnamiento, las funciones anteriores dividen  en entrenamiento y evaluación\n",
        "model=gs_model.fit(trainset) ## se reentrena sobre todos los datos posibles (sin dividir)\n",
        "\n",
        "\n",
        "\n",
        "predset = trainset.build_anti_testset() ### crea una tabla con todos los usuarios y los libros que no han leido\n",
        "#### en la columna de rating pone el promedio de todos los rating, en caso de que no pueda calcularlo para un item-usuario\n",
        "len(predset)\n",
        "\n",
        "predictions = gs_model.test(predset) ### función muy pesada, hace las predicciones de rating para todos los libros que no hay leido un usuario\n",
        "### la funcion test recibe un test set constriuido con build_test method, o el que genera crosvalidate\n",
        "\n",
        "####### la predicción se puede hacer para un libro puntual\n",
        "model.predict(uid=269397, iid='0446353205',r_ui='') ### uid debía estar en número e isb en comillas\n",
        "\n",
        "predictions_df = pd.DataFrame(predictions) ### esta tabla se puede llevar a una base donde estarán todas las predicciones\n",
        "predictions_df.shape\n",
        "predictions_df.head()\n",
        "predictions_df['r_ui'].unique() ### promedio de ratings\n",
        "predictions_df.sort_values(by='est',ascending=False)"
      ],
      "metadata": {
        "id": "mBnq1ZBdTOJq"
      },
      "execution_count": null,
      "outputs": []
    },
    {
      "cell_type": "code",
      "source": [
        "##### funcion para recomendar los 10 libros con mejores predicciones y llevar base de datos para consultar resto de información\n",
        "def recomendaciones(user_id,n_recomend=10):\n",
        "\n",
        "    predictions_userID = predictions_df[predictions_df['uid'] == user_id].\\\n",
        "                    sort_values(by=\"est\", ascending = False).head(n_recomend)\n",
        "\n",
        "    recomendados = predictions_userID[['iid','est']]\n",
        "    recomendados.to_sql('reco',conn,if_exists=\"replace\")\n",
        "\n",
        "    recomendados=pd.read_sql('''select a.*, b.book_title\n",
        "                             from reco a left join books_final b\n",
        "                             on a.iid=b.isbn ''', conn)\n",
        "\n",
        "    return(recomendados)\n",
        "\n",
        "\n",
        "\n",
        "recomendaciones(user_id=55490,n_recomend=10)"
      ],
      "metadata": {
        "id": "dDkmUFGITRu7"
      },
      "execution_count": null,
      "outputs": []
    }
  ]
}