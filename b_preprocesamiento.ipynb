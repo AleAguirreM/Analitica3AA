{
  "nbformat": 4,
  "nbformat_minor": 0,
  "metadata": {
    "colab": {
      "provenance": [],
      "mount_file_id": "1h0HTzN79we-Prga7DNZpBoh3rHZiXCC0",
      "authorship_tag": "ABX9TyPFCgQDKXzCw1o9TirVK6KQ",
      "include_colab_link": true
    },
    "kernelspec": {
      "name": "python3",
      "display_name": "Python 3"
    },
    "language_info": {
      "name": "python"
    }
  },
  "cells": [
    {
      "cell_type": "markdown",
      "metadata": {
        "id": "view-in-github",
        "colab_type": "text"
      },
      "source": [
        "<a href=\"https://colab.research.google.com/github/AleAguirreM/Analitica3AA/blob/main/b_preprocesamiento.ipynb\" target=\"_parent\"><img src=\"https://colab.research.google.com/assets/colab-badge.svg\" alt=\"Open In Colab\"/></a>"
      ]
    },
    {
      "cell_type": "code",
      "execution_count": null,
      "metadata": {
        "id": "FbmT0fm9tF0k"
      },
      "outputs": [],
      "source": [
        "import numpy as np\n",
        "import pandas as pd\n",
        "import sqlite3 as sql\n",
        "import plotly.graph_objs as go\n",
        "import plotly.express as px\n",
        "import sys\n",
        "from mlxtend.preprocessing import TransactionEncoder"
      ]
    },
    {
      "cell_type": "code",
      "source": [
        "#conectamos drive\n",
        "from google.colab import drive\n",
        "drive.mount('/content/drive')"
      ],
      "metadata": {
        "colab": {
          "base_uri": "https://localhost:8080/"
        },
        "id": "p8L03_18OirP",
        "outputId": "c3131856-884f-4764-be60-b12e52f76f2c"
      },
      "execution_count": null,
      "outputs": [
        {
          "output_type": "stream",
          "name": "stdout",
          "text": [
            "Drive already mounted at /content/drive; to attempt to forcibly remount, call drive.mount(\"/content/drive\", force_remount=True).\n"
          ]
        }
      ]
    },
    {
      "cell_type": "code",
      "source": [
        "sys.path.append('/content/drive/MyDrive')"
      ],
      "metadata": {
        "id": "UDqMCC7uOmCm"
      },
      "execution_count": null,
      "outputs": []
    },
    {
      "cell_type": "code",
      "source": [
        "import a_funciones as fn"
      ],
      "metadata": {
        "id": "mIWNjeOzOjs3"
      },
      "execution_count": null,
      "outputs": []
    },
    {
      "cell_type": "code",
      "source": [
        "conn = sql.connect(\"/content/drive/MyDrive/db_movies3\")"
      ],
      "metadata": {
        "id": "wFQFl5ketOP2"
      },
      "execution_count": null,
      "outputs": []
    },
    {
      "cell_type": "code",
      "source": [
        "curr = conn.cursor()"
      ],
      "metadata": {
        "id": "sbCZ9gaftvHN"
      },
      "execution_count": null,
      "outputs": []
    },
    {
      "cell_type": "code",
      "source": [
        "curr.execute(\"SELECT name FROM sqlite_master WHERE type = 'table'\")"
      ],
      "metadata": {
        "colab": {
          "base_uri": "https://localhost:8080/"
        },
        "id": "PwxQeihpt0R0",
        "outputId": "ccdec0a4-a204-4c95-dd2c-4d3429a60efb"
      },
      "execution_count": null,
      "outputs": [
        {
          "output_type": "execute_result",
          "data": {
            "text/plain": [
              "<sqlite3.Cursor at 0x79064ef020c0>"
            ]
          },
          "metadata": {},
          "execution_count": 453
        }
      ]
    },
    {
      "cell_type": "code",
      "source": [
        "curr.fetchall()"
      ],
      "metadata": {
        "colab": {
          "base_uri": "https://localhost:8080/"
        },
        "id": "QX5LYnrZuNeL",
        "outputId": "e8e59da4-0a9b-46a3-bfca-24203626e327"
      },
      "execution_count": null,
      "outputs": [
        {
          "output_type": "execute_result",
          "data": {
            "text/plain": [
              "[]"
            ]
          },
          "metadata": {},
          "execution_count": 456
        }
      ]
    },
    {
      "cell_type": "code",
      "source": [
        "pd.read_sql(\"select * from ratings\", conn)"
      ],
      "metadata": {
        "colab": {
          "base_uri": "https://localhost:8080/",
          "height": 408
        },
        "id": "4IZZGu3JykO5",
        "outputId": "e08347a4-c225-4497-9cef-563756ccd60a"
      },
      "execution_count": null,
      "outputs": [
        {
          "output_type": "error",
          "ename": "DatabaseError",
          "evalue": "Execution failed on sql 'select * from ratings': no such table: ratings",
          "traceback": [
            "\u001b[0;31m---------------------------------------------------------------------------\u001b[0m",
            "\u001b[0;31mOperationalError\u001b[0m                          Traceback (most recent call last)",
            "\u001b[0;32m/usr/local/lib/python3.10/dist-packages/pandas/io/sql.py\u001b[0m in \u001b[0;36mexecute\u001b[0;34m(self, sql, params)\u001b[0m\n\u001b[1;32m   2201\u001b[0m         \u001b[0;32mtry\u001b[0m\u001b[0;34m:\u001b[0m\u001b[0;34m\u001b[0m\u001b[0;34m\u001b[0m\u001b[0m\n\u001b[0;32m-> 2202\u001b[0;31m             \u001b[0mcur\u001b[0m\u001b[0;34m.\u001b[0m\u001b[0mexecute\u001b[0m\u001b[0;34m(\u001b[0m\u001b[0msql\u001b[0m\u001b[0;34m,\u001b[0m \u001b[0;34m*\u001b[0m\u001b[0margs\u001b[0m\u001b[0;34m)\u001b[0m\u001b[0;34m\u001b[0m\u001b[0;34m\u001b[0m\u001b[0m\n\u001b[0m\u001b[1;32m   2203\u001b[0m             \u001b[0;32mreturn\u001b[0m \u001b[0mcur\u001b[0m\u001b[0;34m\u001b[0m\u001b[0;34m\u001b[0m\u001b[0m\n",
            "\u001b[0;31mOperationalError\u001b[0m: no such table: ratings",
            "\nThe above exception was the direct cause of the following exception:\n",
            "\u001b[0;31mDatabaseError\u001b[0m                             Traceback (most recent call last)",
            "\u001b[0;32m<ipython-input-449-9202a51df0aa>\u001b[0m in \u001b[0;36m<cell line: 1>\u001b[0;34m()\u001b[0m\n\u001b[0;32m----> 1\u001b[0;31m \u001b[0mpd\u001b[0m\u001b[0;34m.\u001b[0m\u001b[0mread_sql\u001b[0m\u001b[0;34m(\u001b[0m\u001b[0;34m\"select * from ratings\"\u001b[0m\u001b[0;34m,\u001b[0m \u001b[0mconn\u001b[0m\u001b[0;34m)\u001b[0m\u001b[0;34m\u001b[0m\u001b[0;34m\u001b[0m\u001b[0m\n\u001b[0m",
            "\u001b[0;32m/usr/local/lib/python3.10/dist-packages/pandas/io/sql.py\u001b[0m in \u001b[0;36mread_sql\u001b[0;34m(sql, con, index_col, coerce_float, params, parse_dates, columns, chunksize, dtype_backend, dtype)\u001b[0m\n\u001b[1;32m    633\u001b[0m     \u001b[0;32mwith\u001b[0m \u001b[0mpandasSQL_builder\u001b[0m\u001b[0;34m(\u001b[0m\u001b[0mcon\u001b[0m\u001b[0;34m)\u001b[0m \u001b[0;32mas\u001b[0m \u001b[0mpandas_sql\u001b[0m\u001b[0;34m:\u001b[0m\u001b[0;34m\u001b[0m\u001b[0;34m\u001b[0m\u001b[0m\n\u001b[1;32m    634\u001b[0m         \u001b[0;32mif\u001b[0m \u001b[0misinstance\u001b[0m\u001b[0;34m(\u001b[0m\u001b[0mpandas_sql\u001b[0m\u001b[0;34m,\u001b[0m \u001b[0mSQLiteDatabase\u001b[0m\u001b[0;34m)\u001b[0m\u001b[0;34m:\u001b[0m\u001b[0;34m\u001b[0m\u001b[0;34m\u001b[0m\u001b[0m\n\u001b[0;32m--> 635\u001b[0;31m             return pandas_sql.read_query(\n\u001b[0m\u001b[1;32m    636\u001b[0m                 \u001b[0msql\u001b[0m\u001b[0;34m,\u001b[0m\u001b[0;34m\u001b[0m\u001b[0;34m\u001b[0m\u001b[0m\n\u001b[1;32m    637\u001b[0m                 \u001b[0mindex_col\u001b[0m\u001b[0;34m=\u001b[0m\u001b[0mindex_col\u001b[0m\u001b[0;34m,\u001b[0m\u001b[0;34m\u001b[0m\u001b[0;34m\u001b[0m\u001b[0m\n",
            "\u001b[0;32m/usr/local/lib/python3.10/dist-packages/pandas/io/sql.py\u001b[0m in \u001b[0;36mread_query\u001b[0;34m(self, sql, index_col, coerce_float, parse_dates, params, chunksize, dtype, dtype_backend)\u001b[0m\n\u001b[1;32m   2264\u001b[0m         \u001b[0mdtype_backend\u001b[0m\u001b[0;34m:\u001b[0m \u001b[0mDtypeBackend\u001b[0m \u001b[0;34m|\u001b[0m \u001b[0mLiteral\u001b[0m\u001b[0;34m[\u001b[0m\u001b[0;34m\"numpy\"\u001b[0m\u001b[0;34m]\u001b[0m \u001b[0;34m=\u001b[0m \u001b[0;34m\"numpy\"\u001b[0m\u001b[0;34m,\u001b[0m\u001b[0;34m\u001b[0m\u001b[0;34m\u001b[0m\u001b[0m\n\u001b[1;32m   2265\u001b[0m     ) -> DataFrame | Iterator[DataFrame]:\n\u001b[0;32m-> 2266\u001b[0;31m         \u001b[0mcursor\u001b[0m \u001b[0;34m=\u001b[0m \u001b[0mself\u001b[0m\u001b[0;34m.\u001b[0m\u001b[0mexecute\u001b[0m\u001b[0;34m(\u001b[0m\u001b[0msql\u001b[0m\u001b[0;34m,\u001b[0m \u001b[0mparams\u001b[0m\u001b[0;34m)\u001b[0m\u001b[0;34m\u001b[0m\u001b[0;34m\u001b[0m\u001b[0m\n\u001b[0m\u001b[1;32m   2267\u001b[0m         \u001b[0mcolumns\u001b[0m \u001b[0;34m=\u001b[0m \u001b[0;34m[\u001b[0m\u001b[0mcol_desc\u001b[0m\u001b[0;34m[\u001b[0m\u001b[0;36m0\u001b[0m\u001b[0;34m]\u001b[0m \u001b[0;32mfor\u001b[0m \u001b[0mcol_desc\u001b[0m \u001b[0;32min\u001b[0m \u001b[0mcursor\u001b[0m\u001b[0;34m.\u001b[0m\u001b[0mdescription\u001b[0m\u001b[0;34m]\u001b[0m\u001b[0;34m\u001b[0m\u001b[0;34m\u001b[0m\u001b[0m\n\u001b[1;32m   2268\u001b[0m \u001b[0;34m\u001b[0m\u001b[0m\n",
            "\u001b[0;32m/usr/local/lib/python3.10/dist-packages/pandas/io/sql.py\u001b[0m in \u001b[0;36mexecute\u001b[0;34m(self, sql, params)\u001b[0m\n\u001b[1;32m   2212\u001b[0m \u001b[0;34m\u001b[0m\u001b[0m\n\u001b[1;32m   2213\u001b[0m             \u001b[0mex\u001b[0m \u001b[0;34m=\u001b[0m \u001b[0mDatabaseError\u001b[0m\u001b[0;34m(\u001b[0m\u001b[0;34mf\"Execution failed on sql '{sql}': {exc}\"\u001b[0m\u001b[0;34m)\u001b[0m\u001b[0;34m\u001b[0m\u001b[0;34m\u001b[0m\u001b[0m\n\u001b[0;32m-> 2214\u001b[0;31m             \u001b[0;32mraise\u001b[0m \u001b[0mex\u001b[0m \u001b[0;32mfrom\u001b[0m \u001b[0mexc\u001b[0m\u001b[0;34m\u001b[0m\u001b[0;34m\u001b[0m\u001b[0m\n\u001b[0m\u001b[1;32m   2215\u001b[0m \u001b[0;34m\u001b[0m\u001b[0m\n\u001b[1;32m   2216\u001b[0m     \u001b[0;34m@\u001b[0m\u001b[0mstaticmethod\u001b[0m\u001b[0;34m\u001b[0m\u001b[0;34m\u001b[0m\u001b[0m\n",
            "\u001b[0;31mDatabaseError\u001b[0m: Execution failed on sql 'select * from ratings': no such table: ratings"
          ]
        }
      ]
    },
    {
      "cell_type": "code",
      "source": [
        "#try:\n",
        "    # Intentar agregar la columna fecha_fecha si no existe\n",
        "    #curr.execute(\"ALTER TABLE ratings ADD COLUMN fecha_fecha DATE\")\n",
        "#except sql.OperationalError as e:\n",
        "    # Si la columna ya existe, mostrar un mensaje de advertencia\n",
        "    #print(\"La columna 'fecha_fecha' ya existe en la tabla 'ratings'.\")\n",
        "\n",
        "# Actualizar la nueva columna con los valores convertidos de la columna existente\n",
        "#curr.execute(\"UPDATE ratings SET fecha_fecha = DATE(timestamp)\")\n"
      ],
      "metadata": {
        "id": "RJf2N9d9V1Iw"
      },
      "execution_count": null,
      "outputs": []
    },
    {
      "cell_type": "code",
      "source": [
        "movies = pd.read_sql(\"select * from movies\", conn)"
      ],
      "metadata": {
        "id": "amf9qj0gP1Pf"
      },
      "execution_count": null,
      "outputs": []
    },
    {
      "cell_type": "code",
      "source": [
        "ratings = pd.read_sql(\"select * from ratings\", conn)"
      ],
      "metadata": {
        "id": "e51akMsFUE9B"
      },
      "execution_count": null,
      "outputs": []
    },
    {
      "cell_type": "code",
      "source": [
        "\n",
        "#####Exploración inicial #####\n",
        "\n",
        "#Identificar campos de cruce y verificar que estén en mismo formato ####\n",
        "### verificar duplicados\n",
        "\n",
        "ratings.info()\n",
        "ratings.head()\n",
        "ratings.duplicated().sum()\n",
        "\n",
        "movies.info()\n",
        "movies.head()\n",
        "movies.duplicated().sum()\n",
        "\n",
        "ratings.rating.unique()\n"
      ],
      "metadata": {
        "id": "N4zK3RBHPYbe"
      },
      "execution_count": null,
      "outputs": []
    },
    {
      "cell_type": "code",
      "source": [
        "#¿Cuántos usuarios han calificado al menos 50 películas diferentes?\n",
        "consulta_sql = \"\"\"\n",
        "    SELECT userId, COUNT(DISTINCT movieId) AS numero_peliculas\n",
        "    FROM ratings\n",
        "    GROUP BY userId\n",
        "    HAVING numero_peliculas >= 50\n",
        "\"\"\"\n",
        "pd.read_sql(consulta_sql, conn)"
      ],
      "metadata": {
        "id": "fY1BMlJ8Uios"
      },
      "execution_count": null,
      "outputs": []
    },
    {
      "cell_type": "code",
      "source": [
        "###calcular la distribución de calificaciones\n",
        "cr=pd.read_sql(\"\"\" select\n",
        "                          \"rating\" as rating,\n",
        "                          count(*) as conteo\n",
        "                          from ratings\n",
        "                          group by \"rating\"\n",
        "                          order by conteo desc\"\"\", conn)\n",
        "cr"
      ],
      "metadata": {
        "id": "P7AS2485WOEj"
      },
      "execution_count": null,
      "outputs": []
    },
    {
      "cell_type": "code",
      "source": [
        "data  = go.Bar( x=cr.rating,y=cr.conteo, text=cr.conteo, textposition=\"outside\")\n",
        "Layout=go.Layout(title=\"Count of ratings\",xaxis={'title':'Rating'},yaxis={'title':'Count'})\n",
        "go.Figure(data,Layout)"
      ],
      "metadata": {
        "id": "hHtRcmCcXFrY"
      },
      "execution_count": null,
      "outputs": []
    },
    {
      "cell_type": "markdown",
      "source": [
        "Vemos que la pelicula es calificada generalmente cuando es buena o aceptable, la mayor concentracion de calficaciones se encuentra entre 3-5, la distribucion entre califaficaciones de 2.5 a 0.5, es realmente baja."
      ],
      "metadata": {
        "id": "EWMgVkutg46h"
      }
    },
    {
      "cell_type": "code",
      "source": [
        "### calcular cada usuario cuátos peliculas calificó\n",
        "rating_users=pd.read_sql(''' select \"userId\" as user_id,\n",
        "                         count(*) as cnt_rat\n",
        "                         from ratings\n",
        "                         group by \"userId\"\n",
        "                         order by cnt_rat asc\n",
        "                         ''',conn )\n",
        "rating_users"
      ],
      "metadata": {
        "id": "uSKywZvtXVsV"
      },
      "execution_count": null,
      "outputs": []
    },
    {
      "cell_type": "code",
      "source": [
        "fig  = px.histogram(rating_users, x= 'cnt_rat', title= 'Hist frecuencia de numero de calificaciones por usuario')\n",
        "fig.show()"
      ],
      "metadata": {
        "id": "cdFC1GMAXj-C"
      },
      "execution_count": null,
      "outputs": []
    },
    {
      "cell_type": "markdown",
      "source": [
        "En el gràfico vemos que es poco frecuente que los usarios califiquen menos de 500 peliculas, por lo que se acota los datos para ver una mejor distribuciòn. Hay datos atipicos, ya que se muestran usuarios que han calificado más de 2000 peliculas"
      ],
      "metadata": {
        "id": "Qux1S30vX51h"
      }
    },
    {
      "cell_type": "code",
      "source": [
        "rating_users.describe()"
      ],
      "metadata": {
        "id": "yjeHrWDiXqXb"
      },
      "execution_count": null,
      "outputs": []
    },
    {
      "cell_type": "markdown",
      "source": [
        "En el describe se evidencia que el 75% de los usuarios ha calificado menos de 168 libros, que el minimo de calificaciones es de 20, que la mediana es 165 calificaciones aproximadamente y el total de usuarios es de 610."
      ],
      "metadata": {
        "id": "R6xpTWl9YL2e"
      }
    },
    {
      "cell_type": "code",
      "source": [
        "### excluimos los usuarios que tengan menos de 170 libros calificados\n",
        "rating_users2=pd.read_sql(''' select \"userId\" as user_id,\n",
        "                         count(*) as cnt_rat\n",
        "                         from ratings\n",
        "                         group by \"userId\"\n",
        "                         having cnt_rat <=300\n",
        "                         order by cnt_rat asc\n",
        "                         ''',conn )"
      ],
      "metadata": {
        "id": "vMwKGGmkYowH"
      },
      "execution_count": null,
      "outputs": []
    },
    {
      "cell_type": "code",
      "source": [
        "##Graficamos para observar la distribuciòn con la restricciòn\n",
        "fig  = px.histogram(rating_users2, x= 'cnt_rat', title= 'Hist frecuencia de numero de calificaciones por usario')\n",
        "fig.show()\n"
      ],
      "metadata": {
        "id": "A63UmBC3ZK5m"
      },
      "execution_count": null,
      "outputs": []
    },
    {
      "cell_type": "code",
      "source": [
        "rating_users2.describe()"
      ],
      "metadata": {
        "id": "Zbs6hjQqZXVZ"
      },
      "execution_count": null,
      "outputs": []
    },
    {
      "cell_type": "markdown",
      "source": [
        "En este caso vemos una mejor distribucion y la desviacion disminuyò mas de 200 puntos, vemos que hay valores mas cercanas y en ese caso hay 527 datos, es decir, no hubo una reducciòn significativa de datos"
      ],
      "metadata": {
        "id": "ZLcSBnQwd9hq"
      }
    },
    {
      "cell_type": "code",
      "source": [
        "#### verificar cuantas calificaciones tiene cada pelicula\n",
        "rating_movies=pd.read_sql(''' select movieId ,\n",
        "                         count(*) as cnt_rat\n",
        "                         from ratings\n",
        "                         group by \"movieId\"\n",
        "                         order by cnt_rat desc\n",
        "                         ''',conn )\n",
        "rating_movies"
      ],
      "metadata": {
        "id": "P-gPcteGgJup"
      },
      "execution_count": null,
      "outputs": []
    },
    {
      "cell_type": "code",
      "source": [
        "### analizar distribucion de calificaciones por pelicula\n",
        "rating_movies.describe()"
      ],
      "metadata": {
        "id": "4zzU6s97gtot"
      },
      "execution_count": null,
      "outputs": []
    },
    {
      "cell_type": "markdown",
      "source": [
        "En la distribuciòn podemos ver que la pelicula con mas calificaciones es 329 y la mas  baja 1, es decir hay una gran variabiliad, el 75% de las pelicula tiene menos de 9 calificaciones, es decir, generalmente son pocas las calificaciones que recib."
      ],
      "metadata": {
        "id": "3yZygf94hV0C"
      }
    },
    {
      "cell_type": "code",
      "source": [
        "####Filtrar peliculas que tengan mas de 50 calificiones\n",
        "rating_movies2=pd.read_sql(''' select movieId as movie,\n",
        "                         count(*) as cnt_rat\n",
        "                         from ratings\n",
        "                         group by \"movieId\"\n",
        "                         having cnt_rat>=50\n",
        "                         order by cnt_rat desc\n",
        "                         ''',conn )\n",
        "rating_movies2"
      ],
      "metadata": {
        "id": "PmmQVsK8h9Gs"
      },
      "execution_count": null,
      "outputs": []
    },
    {
      "cell_type": "code",
      "source": [
        "##Anaalizamos la distribucion\n",
        "rating_movies2.describe()"
      ],
      "metadata": {
        "id": "_7ZuPhnriPxr"
      },
      "execution_count": null,
      "outputs": []
    },
    {
      "cell_type": "code",
      "source": [
        "fig  = px.histogram(rating_movies2, x= 'cnt_rat', title= 'Hist frecuencia de numero de calificaciones para cada pelicula')\n",
        "fig.show()\n"
      ],
      "metadata": {
        "id": "4M_hHKxViPOL"
      },
      "execution_count": null,
      "outputs": []
    },
    {
      "cell_type": "code",
      "source": [
        "##¿Cuál es la película con el rating promedio más bajo que tiene al menos 100 calificaciones?\n",
        "avr_min = pd.read_sql(\"\"\"\n",
        "    SELECT m.title, AVG(r.rating) AS promedio_calificacion\n",
        "    FROM movies m\n",
        "    JOIN ratings r ON m.movieId = r.movieId\n",
        "    GROUP BY m.title\n",
        "    HAVING COUNT(r.rating) >= 100\n",
        "    ORDER BY promedio_calificacion\n",
        "    LIMIT 1\"\"\",conn)\n",
        "avr_min"
      ],
      "metadata": {
        "id": "gw9STI_rjER8"
      },
      "execution_count": null,
      "outputs": []
    },
    {
      "cell_type": "code",
      "source": [
        "#### ¿Cuál es la película con la calificación promedio más alta?\n",
        "consulta_sql = \"\"\"\n",
        "    SELECT m.title, AVG(r.rating) as calificacion\n",
        "    FROM movies m\n",
        "    LEFT JOIN ratings r ON m.movieId = r.movieId\n",
        "    GROUP BY m.title\n",
        "    ORDER BY calificacion DESC\n",
        "    LIMIT 1\n",
        "\"\"\"\n",
        "pd.read_sql(consulta_sql, conn)"
      ],
      "metadata": {
        "id": "s29Iqh-qURCU"
      },
      "execution_count": null,
      "outputs": []
    },
    {
      "cell_type": "code",
      "source": [
        "#### ¿Cuántos usuarios han calificado al menos 50 películas diferentes?\n",
        "consulta_sql = \"\"\"\n",
        "    SELECT m.title, AVG(r.rating) as calificacion\n",
        "    FROM movies m\n",
        "    LEFT JOIN ratings r ON m.movieId = r.movieId\n",
        "    GROUP BY m.title\n",
        "    ORDER BY calificacion DESC\n",
        "    LIMIT 1\n",
        "\"\"\"\n",
        "pd.read_sql(consulta_sql, conn)"
      ],
      "metadata": {
        "id": "kDImSrhUjm1E"
      },
      "execution_count": null,
      "outputs": []
    },
    {
      "cell_type": "code",
      "source": [
        " fn.ejecutar_sql('/content/drive/MyDrive/preprocesamientoSQL.sql', curr)"
      ],
      "metadata": {
        "id": "ZmFUKGTWH3f4"
      },
      "execution_count": null,
      "outputs": []
    },
    {
      "cell_type": "code",
      "source": [
        "curr.execute(\"select name from sqlite_master where type='table' \")\n",
        "curr.fetchall()\n",
        "\n",
        "\n",
        "\n",
        "\n"
      ],
      "metadata": {
        "id": "Fv_wDINfJj9L"
      },
      "execution_count": null,
      "outputs": []
    },
    {
      "cell_type": "code",
      "source": [
        "pd.read_sql('select count(*) from movies', conn)\n",
        "pd.read_sql('select count(*) from ratings', conn)\n",
        "pd.read_sql('select count(*) from usuarios_sel', conn)\n",
        "pd.read_sql('select count(*) from movies_sel', conn)\n",
        "pd.read_sql('select count(*) from ratings_final', conn)\n",
        "pd.read_sql('select count(*) from full_ratings', conn)"
      ],
      "metadata": {
        "id": "BlPD2kIEJp98"
      },
      "execution_count": null,
      "outputs": []
    },
    {
      "cell_type": "code",
      "source": [
        "\n",
        "ratings=pd.read_sql('select * from full_ratings',conn)\n",
        "print(ratings.duplicated().sum()) # al cruzar tablas a veces se duplican registros\n",
        "print(ratings.info())\n",
        "print(ratings.head(10))"
      ],
      "metadata": {
        "id": "TCUSsc_KJvNh"
      },
      "execution_count": null,
      "outputs": []
    },
    {
      "cell_type": "code",
      "source": [
        "\n",
        "movies=pd.read_sql(\"\"\"select * from movies\"\"\", conn)\n",
        "genres =movies['genres'].str.split('|')\n",
        "te = TransactionEncoder()\n",
        "genres = te.fit_transform(genres)\n",
        "genres = pd.DataFrame(genres, columns = te.columns_)"
      ],
      "metadata": {
        "id": "90CDWltKJ2fB"
      },
      "execution_count": null,
      "outputs": []
    }
  ]
}