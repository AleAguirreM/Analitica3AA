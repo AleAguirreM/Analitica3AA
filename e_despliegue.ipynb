{
  "nbformat": 4,
  "nbformat_minor": 0,
  "metadata": {
    "colab": {
      "provenance": [],
      "authorship_tag": "ABX9TyPcAShtV/jAzh6aUGFfmun4",
      "include_colab_link": true
    },
    "kernelspec": {
      "name": "python3",
      "display_name": "Python 3"
    },
    "language_info": {
      "name": "python"
    }
  },
  "cells": [
    {
      "cell_type": "markdown",
      "metadata": {
        "id": "view-in-github",
        "colab_type": "text"
      },
      "source": [
        "<a href=\"https://colab.research.google.com/github/AleAguirreM/Analitica3AA/blob/main/e_despliegue.ipynb\" target=\"_parent\"><img src=\"https://colab.research.google.com/assets/colab-badge.svg\" alt=\"Open In Colab\"/></a>"
      ]
    },
    {
      "cell_type": "code",
      "execution_count": 66,
      "metadata": {
        "id": "dVvABiPkTZyH"
      },
      "outputs": [],
      "source": [
        "import numpy as np\n",
        "import pandas as pd\n",
        "import sqlite3 as sql\n",
        "import openpyxl\n",
        "####Paquete para sistema basado en contenido ####\n",
        "from sklearn.preprocessing import MinMaxScaler\n",
        "from sklearn import neighbors\n",
        "import sys\n",
        "import codecs"
      ]
    },
    {
      "cell_type": "code",
      "source": [
        "#conectamos drive\n",
        "from google.colab import drive\n",
        "drive.mount('/content/drive')"
      ],
      "metadata": {
        "colab": {
          "base_uri": "https://localhost:8080/"
        },
        "id": "FB9ZX_0tNYOy",
        "outputId": "f5c39758-60b9-4a5e-ccae-9dd462c9d773"
      },
      "execution_count": 53,
      "outputs": [
        {
          "output_type": "stream",
          "name": "stdout",
          "text": [
            "Drive already mounted at /content/drive; to attempt to forcibly remount, call drive.mount(\"/content/drive\", force_remount=True).\n"
          ]
        }
      ]
    },
    {
      "cell_type": "code",
      "source": [
        "sys.path.append('/content/drive/MyDrive')"
      ],
      "metadata": {
        "id": "OPLq0mxjNiIe"
      },
      "execution_count": 54,
      "outputs": []
    },
    {
      "cell_type": "code",
      "source": [
        "import a_funciones as fn"
      ],
      "metadata": {
        "id": "nU272wtKNjnV"
      },
      "execution_count": 55,
      "outputs": []
    },
    {
      "cell_type": "code",
      "source": [
        "def preprocesar():\n",
        "\n",
        "    #### conectar_base_de_Datos#################\n",
        "    conn=sql.connect('/content/drive/MyDrive/db_moviesSQL')\n",
        "    cur=conn.cursor()\n",
        "\n",
        "\n",
        "    ######## convertir datos crudos a bases filtradas por usuarios que tengan cierto número de calificaciones\n",
        "    fn.ejecutar_sql('/content/drive/MyDrive/prepoce.sql', cur)\n",
        "\n",
        "    ##### llevar datos que cambian constantemente a python ######\n",
        "    movies=pd.read_sql('select * from full', conn )\n",
        "    ratings=pd.read_sql('select * from ratings_final', conn)\n",
        "    usuarios=pd.read_sql('select distinct (userId) as user_id from full',conn)\n",
        "\n",
        "\n",
        "    #### transformación de datos crudos - Preprocesamiento ################\n",
        "    movies['year']=movies.year.astype('int')\n",
        "\n",
        "    ##### escalar para que año esté en el mismo rango ###\n",
        "    sc=MinMaxScaler()\n",
        "    movies[[\"year_sc\"]]=sc.fit_transform(movies[['year']])\n",
        "\n",
        "    ## eliminar filas que no se van a utilizar ###\n",
        "    movies_dum1= movies.drop(columns=['movieId','title','cnt_rat','year','date','userId','date','index'])\n",
        "\n",
        "    return movies_dum1,movies, conn, cur"
      ],
      "metadata": {
        "id": "7IHWFfPcTjBl"
      },
      "execution_count": 68,
      "outputs": []
    },
    {
      "cell_type": "code",
      "source": [
        "from google.colab import drive\n",
        "drive.mount('/content/drive')"
      ],
      "metadata": {
        "colab": {
          "base_uri": "https://localhost:8080/"
        },
        "id": "4WbJbaTbuxtq",
        "outputId": "a3146ca0-6efc-4bf3-e2bb-b7e30cab2ca8"
      },
      "execution_count": 69,
      "outputs": [
        {
          "output_type": "stream",
          "name": "stdout",
          "text": [
            "Drive already mounted at /content/drive; to attempt to forcibly remount, call drive.mount(\"/content/drive\", force_remount=True).\n"
          ]
        }
      ]
    },
    {
      "cell_type": "code",
      "source": [
        "##########################################################################\n",
        "###############Función para entrenar modelo por cada usuario ##########\n",
        "###############Basado en contenido todo lo visto por el usuario Knn#############################\n",
        "def recomendar(user_id):\n",
        "\n",
        "    movies_dum1, movies, conn, cur= preprocesar()\n",
        "\n",
        "    ratings=pd.read_sql('select * from full where userId=:user',conn, params={'user':user_id})\n",
        "    l_movies_r=ratings['movieId'].to_numpy()\n",
        "    movies_dum1[['movieId','title']]=movies[['movieId','title']]\n",
        "    movies_r=movies_dum1[movies_dum1['movieId'].isin(l_movies_r)]\n",
        "    movies_r=movies_r.drop(columns=['movieId','title'])\n",
        "    movies_r[\"indice\"]=1 ### para usar group by y que quede en formato pandas tabla de centroide\n",
        "    centroide=movies_r.groupby(\"indice\").mean()\n",
        "\n",
        "\n",
        "    movies_nr=movies_dum1[~movies_dum1['movieId'].isin(l_movies_r)]\n",
        "    movies_nr=movies_nr.drop(columns=['movieId','title'])\n",
        "    model=neighbors.NearestNeighbors(n_neighbors=11, metric='cosine')\n",
        "    model.fit(movies_nr)\n",
        "    dist, idlist = model.kneighbors(centroide)\n",
        "\n",
        "    ids=idlist[0]\n",
        "    recomend_b=movies.loc[ids][['title','movieId']]\n",
        "\n",
        "\n",
        "    return recomend_b\n",
        "\n"
      ],
      "metadata": {
        "id": "0HNJZbiuTlnl"
      },
      "execution_count": 74,
      "outputs": []
    },
    {
      "cell_type": "code",
      "source": [
        "def main(list_user):\n",
        "    recomendaciones_todos = pd.DataFrame()\n",
        "    for user_id in list_user:\n",
        "        recomendaciones = recomendar(user_id)\n",
        "        if recomendaciones is not None:\n",
        "            recomendaciones[\"user_id\"] = user_id\n",
        "            recomendaciones.reset_index(inplace=True, drop=True)\n",
        "            recomendaciones_todos = pd.concat([recomendaciones_todos, recomendaciones])\n",
        "\n",
        "    recomendaciones_todos.to_excel('C:\\\\cod\\\\Analitica3AA\\\\salidas\\\\reco\\\\recomendaciones.xlsx')\n",
        "    recomendaciones_todos.to_csv('C:\\\\cod\\\\Analitica3AA\\\\salidas\\\\reco\\\\recomendaciones.csv')\n",
        "\n",
        "if __name__ == \"__main__\":\n",
        "    list_user = [1, 2, 3, 4]\n",
        "    main(list_user)"
      ],
      "metadata": {
        "id": "nIndWU-vTodh"
      },
      "execution_count": 75,
      "outputs": []
    }
  ]
}